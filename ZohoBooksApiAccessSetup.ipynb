{
  "nbformat": 4,
  "nbformat_minor": 0,
  "metadata": {
    "colab": {
      "provenance": [],
      "collapsed_sections": [
        "FskEyjtpNfug"
      ],
      "authorship_tag": "ABX9TyNC96Hr+GR020j5qRlfOFKN",
      "include_colab_link": true
    },
    "kernelspec": {
      "name": "python3",
      "display_name": "Python 3"
    },
    "language_info": {
      "name": "python"
    }
  },
  "cells": [
    {
      "cell_type": "markdown",
      "metadata": {
        "id": "view-in-github",
        "colab_type": "text"
      },
      "source": [
        "<a href=\"https://colab.research.google.com/github/aroonalok/zoho-apis/blob/changes/ZohoBooksApiAccessSetup.ipynb\" target=\"_parent\"><img src=\"https://colab.research.google.com/assets/colab-badge.svg\" alt=\"Open In Colab\"/></a>"
      ]
    },
    {
      "cell_type": "markdown",
      "source": [
        "# Setup"
      ],
      "metadata": {
        "id": "FskEyjtpNfug"
      }
    },
    {
      "cell_type": "code",
      "source": [
        "import requests\n",
        "from google.colab import files"
      ],
      "metadata": {
        "id": "cSiX9G9_Nhx3"
      },
      "execution_count": null,
      "outputs": []
    },
    {
      "cell_type": "markdown",
      "source": [
        "# Configuration\n",
        "\n",
        "*   Go to https://api-console.zoho.in/\n",
        "*   Create a `Self Client`\n",
        "*   Put Scope and Description as: `ZohoBooks.fullaccess.all`\n",
        "*   `Create` and copy the generated code\n",
        "\n"
      ],
      "metadata": {
        "id": "QwuGFjY0Lo0e"
      }
    },
    {
      "cell_type": "code",
      "source": [
        "# @title Config\n",
        "CODE = \"\" # @param {type:\"string\"}\n",
        "CLIENT_ID = \"\" # @param {type:\"string\"}\n",
        "CLIENT_SECRET = \"\" # @param {type:\"string\"}\n",
        "\n",
        "OAUTH_ROOT_URL = \"https://accounts.zoho.in/oauth/v2/token?\"\n",
        "OAUTH_REDIRECT_URI = \"http://www.zoho.in\"\n",
        "ROOT_API_ENDPOINT = \"https://www.zohoapis.in/books/v3/\"\n",
        "AUTH_TOKEN_FILENAME = 'authorization_token.txt'\n",
        "\n",
        "if not (CODE and CLIENT_ID and CLIENT_SECRET):\n",
        "  raise AssertionError(\"Fill up all the values!\")"
      ],
      "metadata": {
        "id": "7FW4fN7DIFKI",
        "cellView": "form"
      },
      "execution_count": 16,
      "outputs": []
    },
    {
      "cell_type": "markdown",
      "source": [
        "# Execution"
      ],
      "metadata": {
        "id": "MaCqb55VNPQa"
      }
    },
    {
      "cell_type": "code",
      "execution_count": 17,
      "metadata": {
        "id": "wr0uZBrNHnXl",
        "cellView": "form"
      },
      "outputs": [],
      "source": [
        "# @title Authorization\n",
        "\n",
        "def getOauthToken(code, client_id, client_secret):\n",
        "  params = []\n",
        "  params.append(\"code={CODE}\".format(CODE=code))\n",
        "  params.append(\"client_id={CLIENT_ID}\".format(CLIENT_ID=client_id))\n",
        "  params.append(\"client_secret={CLIENT_SECRET}\".format(CLIENT_SECRET=client_secret))\n",
        "  params.append(\"redirect_uri={REDIRECT_URI}\".format(REDIRECT_URI=OAUTH_REDIRECT_URI))\n",
        "  params.append(\"grant_type=authorization_code\")\n",
        "  url = OAUTH_ROOT_URL+\"&\".join(params)\n",
        "  payload = {}\n",
        "  headers = {}\n",
        "  response = requests.request(\"POST\", url, headers=headers, data=payload)\n",
        "  return response.json()\n",
        "\n",
        "def saveOauthToken(oauth_token, filename=AUTH_TOKEN_FILENAME):\n",
        "  with open(filename, 'w') as token_file:\n",
        "    token_file.write(oauth_token['refresh_token'])\n",
        "    files.download(filename)"
      ]
    },
    {
      "cell_type": "code",
      "source": [
        "# @title Organizations Details\n",
        "\n",
        "def createSession(access_token):\n",
        "  session = requests.Session()\n",
        "  session.headers.update({'Authorization': 'Zoho-oauthtoken {access_token}'.format(access_token=access_token)})\n",
        "  return session\n",
        "\n",
        "def getOrganizationInfo(session):\n",
        "  url = ROOT_API_ENDPOINT+'organizations'\n",
        "  payload = {}\n",
        "  response = session.get(url,data=payload)\n",
        "  return response.json()"
      ],
      "metadata": {
        "id": "wQT_vU0jOEo6",
        "cellView": "form"
      },
      "execution_count": 18,
      "outputs": []
    },
    {
      "cell_type": "markdown",
      "source": [
        "# Output\n",
        "\n",
        "\n",
        "\n",
        "*   Copy the Token\n",
        "*   Copy Organization ID for your Organization\n"
      ],
      "metadata": {
        "id": "tPOEJ-YdOzYG"
      }
    },
    {
      "cell_type": "code",
      "source": [
        "# @title Run Setup\n",
        "\n",
        "oauth_token = getOauthToken(CODE,CLIENT_ID,CLIENT_SECRET)\n",
        "saveOauthToken(oauth_token)\n",
        "\n",
        "org_info = getOrganizationInfo(createSession(oauth_token['access_token']))\n",
        "\n",
        "print(\"Token : {refresh_token}\".format(refresh_token=oauth_token['refresh_token']))\n",
        "for org in org_info['organizations']:\n",
        "  print(\"Organization Name: {name}\".format(name=org['name']))\n",
        "  print(\"Organization ID: {id}\".format(id=org['organization_id']))"
      ],
      "metadata": {
        "id": "5Dih0lv3Hw2I",
        "cellView": "form"
      },
      "execution_count": null,
      "outputs": []
    }
  ]
}
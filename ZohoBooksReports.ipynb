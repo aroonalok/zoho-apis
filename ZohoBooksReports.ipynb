{
  "nbformat": 4,
  "nbformat_minor": 0,
  "metadata": {
    "colab": {
      "provenance": [],
      "include_colab_link": true
    },
    "kernelspec": {
      "name": "python3",
      "display_name": "Python 3"
    },
    "language_info": {
      "name": "python"
    }
  },
  "cells": [
    {
      "cell_type": "markdown",
      "metadata": {
        "id": "view-in-github",
        "colab_type": "text"
      },
      "source": [
        "<a href=\"https://colab.research.google.com/github/aroonalok/zoho-apis/blob/changes/ZohoBooksReports.ipynb\" target=\"_parent\"><img src=\"https://colab.research.google.com/assets/colab-badge.svg\" alt=\"Open In Colab\"/></a>"
      ]
    },
    {
      "cell_type": "markdown",
      "source": [
        "# Setup"
      ],
      "metadata": {
        "id": "fhcat8bigmYk"
      }
    },
    {
      "cell_type": "code",
      "source": [
        "from datetime import datetime\n",
        "from google.colab import files\n",
        "import openpyxl\n",
        "from openpyxl.styles import Font, Color, Border, Side\n",
        "import pandas as pd\n",
        "import pytz\n",
        "import re\n",
        "import requests"
      ],
      "metadata": {
        "id": "X2R6Z2uxBIbk"
      },
      "execution_count": 1,
      "outputs": []
    },
    {
      "cell_type": "markdown",
      "source": [
        "# Configuration\n",
        "\n",
        "*   Go to https://api-console.zoho.in/\n",
        "*   Click on the `Self Client`\n",
        "*   Copy `Client ID` and `Client Secret` from `Client Secret` tab.\n",
        "*   Organization ID can be left unconfigured\n",
        "*   Auth Token can be left unconfigured if you have the downloaded Token file (`authorization_token.txt`) in your local machine."
      ],
      "metadata": {
        "id": "6m9d2bMMAzSF"
      }
    },
    {
      "cell_type": "code",
      "source": [
        "# @title Access Config\n",
        "\n",
        "ORGANIZATION_ID = 0 # @param {type:\"integer\"}\n",
        "AUTH_TOKEN = \"\" # @param {type:\"string\"}\n",
        "CLIENT_ID = \"\" # @param {type:\"string\"}\n",
        "CLIENT_SECRET = \"\" # @param {type:\"string\"}\n",
        "\n",
        "if not (CLIENT_ID and CLIENT_SECRET):\n",
        "  raise AssertionError(\"Fill up Client ID and Client Secret values!\")"
      ],
      "metadata": {
        "cellView": "form",
        "id": "qgZTr0jqWJfA"
      },
      "execution_count": 2,
      "outputs": []
    },
    {
      "cell_type": "code",
      "source": [
        "# @title Date Config\n",
        "FROM_DATE = '2024-04-01' # @param {type:\"date\"}\n",
        "TO_DATE = '2024-04-01' # @param {type:\"date\"}\n",
        "DOWNLOAD_REPORT = True # @param {type:\"boolean\"}\n",
        "\n",
        "DATE_FORMAT = '%Y-%m-%d'\n",
        "if datetime.strptime(FROM_DATE, DATE_FORMAT) > datetime.strptime(TO_DATE, DATE_FORMAT):\n",
        "  raise AssertionError(\"TO_DATE should be greater than FROM_DATE \")"
      ],
      "metadata": {
        "id": "IqjmCX1XvF7v",
        "cellView": "form"
      },
      "execution_count": 3,
      "outputs": []
    },
    {
      "cell_type": "code",
      "source": [
        "# @title API Config\n",
        "\n",
        "MAX_RECORDS_PER_PAGE = 1000\n",
        "IST_TIMEZONE = pytz.timezone('Asia/Kolkata')\n",
        "\n",
        "API_CALLS_COUNTER = 0\n",
        "\n",
        "ROOT_API_ENDPOINT = \"https://www.zohoapis.in/books/v3/\"\n",
        "OAUTH_ROOT_URL = \"https://accounts.zoho.in/oauth/v2/token?\"\n",
        "OAUTH_REDIRECT_URI = \"http://www.zoho.in/books\""
      ],
      "metadata": {
        "id": "7KHJ-fX-AB-x",
        "cellView": "form"
      },
      "execution_count": 4,
      "outputs": []
    },
    {
      "cell_type": "code",
      "source": [
        "# @title Report Config\n",
        "\n",
        "PAYMENT_MODE_CREDIT = \"Credit\"\n",
        "FROM_TO_DATE = \"FROM: {from_date} TO: {to_date}\"\n",
        "FOR_DATE = \"FOR: {for_date}\"\n",
        "DAILY_SALES_REPORT_CAPTION = \"DAILY SALES SUMMARY REPORT {time_range}\"\n",
        "SALES_TYPE_REPORT_CAPTION = \"SALES TYPE SUMMARY REPORT {time_range}\"\n",
        "INTRA_STATE_TAX_REPORT_CAPTION = \"INTRA STATE TAX REPORT {time_range}\"\n",
        "TOTAL_INTRA_STATE_TAX_REPORT_CAPTION = \"INTRA STATE TAX SUMMARY REPORT {time_range}\"\n",
        "FILENAME = \"report-from-{from_date}-to-{to_date}.xlsx\"\n",
        "SALES_SHEET_NAME = \"Sales\"\n",
        "SALES_TYPE_SHEET_NAME = \"Sales Type\"\n",
        "GST_SHEET_NAME = \"GST\"\n",
        "TOTAL_GST_SHEET_NAME = \"TOTAL GST\"\n",
        "NO_DATA_MESSAGE = \"NO DATA PRESENT {time_range}\""
      ],
      "metadata": {
        "cellView": "form",
        "id": "Vs6hpVxImH3X"
      },
      "execution_count": 5,
      "outputs": []
    },
    {
      "cell_type": "markdown",
      "source": [
        "# Code"
      ],
      "metadata": {
        "id": "6rdRKOvOBM_B"
      }
    },
    {
      "cell_type": "code",
      "source": [
        "# @title Utils\n",
        "\n",
        "def formatTimestamp(timestamp):\n",
        "  timestamp_datetime = datetime.strptime(timestamp, '%Y-%m-%dT%H:%M:%S%z')\n",
        "  ist_datetime = timestamp_datetime.astimezone(IST_TIMEZONE)\n",
        "  return ist_datetime.strftime(\"%d-%m-%Y %H:%M\")\n",
        "\n",
        "def calculate_tax_inclusive_amount(item):\n",
        "  discount = float(item['discount'].strip('%'))/100 if item['discount'] else 0.0\n",
        "  return item['rate']*item['quantity']*(1-discount)\n",
        "\n",
        "def getItemType(item):\n",
        "  return \"Book\" if item['hsn_or_sac'] == '49011010' else \"Article\"\n",
        "\n",
        "def addCaption(df, caption):\n",
        "  df.columns = pd.MultiIndex.from_product([[caption], df.columns])\n",
        "  return df\n",
        "\n",
        "def set_borders_and_save(filename):\n",
        "  thin = Side(border_style=\"thin\", color=\"000000\")\n",
        "  wb = openpyxl.load_workbook(filename)\n",
        "  for sheet in wb.sheetnames:\n",
        "    ws = wb[sheet]\n",
        "    for row in ws[ws.dimensions]:\n",
        "      for cell in row:\n",
        "        cell.border = Border(top=thin, left=thin, right=thin, bottom=thin)\n",
        "  wb.save(filename)"
      ],
      "metadata": {
        "id": "EuejqBFiJ6k8",
        "cellView": "form"
      },
      "execution_count": 6,
      "outputs": []
    },
    {
      "cell_type": "code",
      "source": [
        "# @title OAuth\n",
        "\n",
        "def loadOauthToken():\n",
        "  global AUTH_TOKEN\n",
        "  print(\"Select Authorization Token file:\")\n",
        "  uploaded_auth_token = files.upload()\n",
        "  AUTH_TOKEN = next(iter(uploaded_auth_token.values())).decode()\n",
        "\n",
        "def renewOauthToken(refresh_token, client_id, client_secret):\n",
        "  global API_CALLS_COUNTER\n",
        "  params = []\n",
        "  params.append(\"refresh_token={REFRESH_TOKEN}\".format(REFRESH_TOKEN=refresh_token))\n",
        "  params.append(\"client_id={CLIENT_ID}\".format(CLIENT_ID=client_id))\n",
        "  params.append(\"client_secret={CLIENT_SECRET}\".format(CLIENT_SECRET=client_secret))\n",
        "  params.append(\"redirect_uri={REDIRECT_URI}\".format(REDIRECT_URI=OAUTH_REDIRECT_URI))\n",
        "  params.append(\"grant_type=refresh_token\")\n",
        "  url = OAUTH_ROOT_URL+\"&\".join(params)\n",
        "  payload = {}\n",
        "  headers = {}\n",
        "  response = requests.request(\"POST\", url, headers=headers, data=payload)\n",
        "  API_CALLS_COUNTER += 1\n",
        "  return response.json()\n",
        "\n",
        "def createSession(access_token):\n",
        "  session = requests.Session()\n",
        "  session.headers.update({'Authorization': 'Zoho-oauthtoken {access_token}'.format(access_token=access_token)})\n",
        "  return session"
      ],
      "metadata": {
        "id": "YJXgszFgDYmN",
        "cellView": "form"
      },
      "execution_count": 7,
      "outputs": []
    },
    {
      "cell_type": "code",
      "source": [
        "# @title Organization\n",
        "\n",
        "def getOrganizationId(session):\n",
        "  '''\n",
        "    Only takes the first organization from the list of orgs.\n",
        "  '''\n",
        "  global API_CALLS_COUNTER, ORGANIZATION_ID\n",
        "  url = ROOT_API_ENDPOINT+'organizations'\n",
        "  payload = {}\n",
        "  response = session.get(url,data=payload)\n",
        "  API_CALLS_COUNTER += 1\n",
        "  org_info = response.json()\n",
        "  org = org_info['organizations'][0]\n",
        "  print(\"Using Organization: {name}\".format(name=org['name']))\n",
        "  ORGANIZATION_ID = org['organization_id']\n"
      ],
      "metadata": {
        "id": "W0fryd4lHtZI",
        "cellView": "form"
      },
      "execution_count": 8,
      "outputs": []
    },
    {
      "cell_type": "code",
      "source": [
        "# @title Invoices\n",
        "\n",
        "def getInvoices(session, from_date=None, to_date=None, additional_params=[]):\n",
        "  global API_CALLS_COUNTER\n",
        "  params = additional_params\n",
        "  params.append(\"organization_id={ORGANIZATION_ID}\".format(ORGANIZATION_ID=ORGANIZATION_ID))\n",
        "  params.append(\"per_page={MAX_RECORDS_PER_PAGE}\".format(MAX_RECORDS_PER_PAGE=MAX_RECORDS_PER_PAGE))\n",
        "  params.append(\"sort_column=created_time\")\n",
        "  if from_date is not None:\n",
        "    params.append(\"date_start={FROM_DATE}\".format(FROM_DATE=from_date))\n",
        "  if to_date is not None:\n",
        "    params.append(\"date_end={TO_DATE}\".format(TO_DATE=to_date))\n",
        "  url = ROOT_API_ENDPOINT+\"invoices?\"+\"&\".join(params)\n",
        "\n",
        "  results = []\n",
        "  payload = {}\n",
        "  send_request = True\n",
        "  current_page = 1\n",
        "  while send_request:\n",
        "    response = session.get(url+\"&page={PAGE}\".format(PAGE=current_page),data=payload)\n",
        "    API_CALLS_COUNTER += 1\n",
        "    #perform exception handling here\n",
        "    results += response.json()['invoices']\n",
        "    send_request = response.json()['page_context']['has_more_page']\n",
        "    current_page += 1\n",
        "\n",
        "  return pd.DataFrame.from_records(results) if results else None\n",
        "\n",
        "def getInvoiceDetails(session, invoice_id):\n",
        "  global API_CALLS_COUNTER\n",
        "  params = []\n",
        "  params.append(\"organization_id={ORGANIZATION_ID}\".format(ORGANIZATION_ID=ORGANIZATION_ID))\n",
        "  url = ROOT_API_ENDPOINT+\"invoices/{invoice_id}?\".format(invoice_id=invoice_id)+\"&\".join(params)\n",
        "  payload = {}\n",
        "  response = session.get(url, data=payload)\n",
        "  API_CALLS_COUNTER += 1\n",
        "  return response.json()\n",
        "  #perform exception handling here\n",
        "\n",
        "def getPaymentsForInvoice(session, invoice_id):\n",
        "  global API_CALLS_COUNTER\n",
        "  params = []\n",
        "  params.append(\"organization_id={ORGANIZATION_ID}\".format(ORGANIZATION_ID=ORGANIZATION_ID))\n",
        "  url = ROOT_API_ENDPOINT+\"invoices/{invoice_id}/payments?\".format(invoice_id=invoice_id)+\"&\".join(params)\n",
        "  payload = {}\n",
        "  response = session.get(url, data=payload)\n",
        "  API_CALLS_COUNTER += 1\n",
        "  return response.json()\n",
        "  #perform exception handling here"
      ],
      "metadata": {
        "id": "Un_bN28NwAgR",
        "cellView": "form"
      },
      "execution_count": 9,
      "outputs": []
    },
    {
      "cell_type": "code",
      "source": [
        "# @title Payments\n",
        "\n",
        "def getPayments(session, from_date=None, to_date=None):\n",
        "  global API_CALLS_COUNTER\n",
        "  params = []\n",
        "  params.append(\"organization_id={ORGANIZATION_ID}\".format(ORGANIZATION_ID=ORGANIZATION_ID))\n",
        "  params.append(\"per_page={MAX_RECORDS_PER_PAGE}\".format(MAX_RECORDS_PER_PAGE=MAX_RECORDS_PER_PAGE))\n",
        "  params.append(\"sort_column=created_time\")\n",
        "  if from_date is not None:\n",
        "    params.append(\"date_start={FROM_DATE}\".format(FROM_DATE=from_date))\n",
        "  if to_date is not None:\n",
        "    params.append(\"date_end={TO_DATE}\".format(TO_DATE=to_date))\n",
        "  url = ROOT_API_ENDPOINT+\"customerpayments?\"+\"&\".join(params)\n",
        "\n",
        "  results = []\n",
        "  payload = {}\n",
        "  send_request = True\n",
        "  current_page = 1\n",
        "  while send_request:\n",
        "    response = session.get(url+\"&page={PAGE}\".format(PAGE=current_page), data=payload)\n",
        "    API_CALLS_COUNTER += 1\n",
        "    #perform exception handling here\n",
        "    results += response.json()['customerpayments']\n",
        "    send_request = response.json()['page_context']['has_more_page']\n",
        "    current_page += 1\n",
        "\n",
        "  return pd.DataFrame.from_records(results) if results else None"
      ],
      "metadata": {
        "id": "8NiOfTdbUhGf",
        "cellView": "form"
      },
      "execution_count": 10,
      "outputs": []
    },
    {
      "cell_type": "code",
      "source": [
        "# @title Report Creation\n",
        "\n",
        "def createDataForReporting(session, from_date=None, to_date=None):\n",
        "  invoices = getInvoices(session, from_date, to_date)\n",
        "  if invoices is None:\n",
        "    return None, None, None, None\n",
        "\n",
        "  invoice_data_rows = []\n",
        "  sales_type_data_rows = []\n",
        "  intra_state_tax_data_rows = []\n",
        "  for invoice_id in invoices['invoice_id']:\n",
        "    invoice = getInvoiceDetails(session, invoice_id)['invoice']\n",
        "    payments = getPaymentsForInvoice(session, invoice_id)['payments']\n",
        "    #assert len(payments) <= 1\n",
        "    payment_mode = payments[0]['payment_mode'] if payments else PAYMENT_MODE_CREDIT\n",
        "    invoice_data_rows.append({'Invoice No.' : invoice['invoice_number'],\n",
        "                              'Time' : formatTimestamp(invoice['created_time']),\n",
        "                              'Payment Mode' : payment_mode,\n",
        "                              'Amount (including tax)' : invoice['bcy_total']})\n",
        "    for item in invoice['line_items']:\n",
        "      item_total_inclusive_of_tax = calculate_tax_inclusive_amount(item)\n",
        "      sales_type_data_rows.append({'Item Type' : getItemType(item),\n",
        "                                   'Amount (including GST)' : item_total_inclusive_of_tax,\n",
        "                                   'Payment Mode' : payment_mode})\n",
        "      cgst_amount, cgst_percent, sgst_amount, sgst_percent = 0.0, '0%', 0.0, '0%'\n",
        "      for tax in item['line_item_taxes']:\n",
        "        if tax['tax_name'].startswith(\"CGST\"):\n",
        "          cgst_amount, cgst_percent = tax['tax_amount'], re.search('\\d*%', tax['tax_name']).group()\n",
        "        elif tax['tax_name'].startswith(\"SGST\"):\n",
        "          sgst_amount, sgst_percent = tax['tax_amount'], re.search('\\d*%', tax['tax_name']).group()\n",
        "      intra_state_tax_data_rows.append({'Date' : invoice['date'],\n",
        "                                        'SKU' : item['sku'],\n",
        "                                        'Amount (excluding GST)' : item['item_total'],\n",
        "                                        'CGST Amount' : cgst_amount,\n",
        "                                        'SGST Amount' : sgst_amount,\n",
        "                                        'CGST Percent' : cgst_percent,\n",
        "                                        'SGST Percent' : sgst_percent,\n",
        "                                        'Amount (including GST)' : item_total_inclusive_of_tax})\n",
        "\n",
        "  invoice_df = pd.DataFrame(data = invoice_data_rows)\n",
        "  sales_type_df = pd.DataFrame(data = sales_type_data_rows).groupby(['Item Type', 'Payment Mode']).sum()\n",
        "  intra_state_tax_df = pd.DataFrame(data = intra_state_tax_data_rows)\n",
        "  total_intra_state_tax_df = intra_state_tax_df[['Amount (excluding GST)','CGST Amount','SGST Amount','Amount (including GST)']].sum().to_frame(name=\"Total\")\n",
        "  return invoice_df, sales_type_df, intra_state_tax_df, total_intra_state_tax_df\n",
        "\n",
        "def generateReport(from_date=None, to_date=None):\n",
        "  oauth_token = renewOauthToken('1000.8e82d21986ea040cf450df7a7afee4d8.84fa32b03a3316dbbdcba8033e4fc3ed',CLIENT_ID, CLIENT_SECRET)\n",
        "  session = createSession(oauth_token['access_token'])\n",
        "\n",
        "  report_data = createDataForReporting(session, from_date, to_date)\n",
        "  time_range = FOR_DATE.format(for_date=from_date) if from_date == to_date else FROM_TO_DATE.format(from_date=from_date, to_date=to_date)\n",
        "\n",
        "  if all(df is None for df in report_data):\n",
        "    return (NO_DATA_MESSAGE.format(time_range=time_range),)*len(report_data)\n",
        "\n",
        "  invoice_df, sales_type_df, intra_state_tax_df, total_intra_state_tax_df = report_data\n",
        "  invoice_df = addCaption(invoice_df, DAILY_SALES_REPORT_CAPTION.format(time_range=time_range))\n",
        "  sales_type_df = addCaption(sales_type_df, SALES_TYPE_REPORT_CAPTION.format(time_range=time_range))\n",
        "  intra_state_tax_df = addCaption(intra_state_tax_df, INTRA_STATE_TAX_REPORT_CAPTION.format(time_range=time_range))\n",
        "  total_intra_state_tax_df = addCaption(total_intra_state_tax_df, TOTAL_INTRA_STATE_TAX_REPORT_CAPTION.format(time_range=time_range))\n",
        "\n",
        "  filename = FILENAME.format(from_date=from_date, to_date=to_date)\n",
        "  with pd.ExcelWriter(filename) as writer:\n",
        "    invoice_df.to_excel(writer, sheet_name=SALES_SHEET_NAME, index=True)\n",
        "    sales_type_df.to_excel(writer, sheet_name=SALES_TYPE_SHEET_NAME, index=True)\n",
        "    intra_state_tax_df.to_excel(writer, sheet_name=GST_SHEET_NAME, index=True)\n",
        "    total_intra_state_tax_df.to_excel(writer, sheet_name=TOTAL_GST_SHEET_NAME, index=True)\n",
        "\n",
        "  set_borders_and_save(filename)\n",
        "  if DOWNLOAD_REPORT:\n",
        "    files.download(filename)\n",
        "\n",
        "  return invoice_df, sales_type_df, intra_state_tax_df, total_intra_state_tax_df"
      ],
      "metadata": {
        "id": "5nOIDDC613Fs",
        "cellView": "form"
      },
      "execution_count": 11,
      "outputs": []
    },
    {
      "cell_type": "markdown",
      "source": [
        "# Daily Sales Summary Report Generation\n",
        "\n",
        "**Policies**\n",
        "\n",
        " - For a given Invoice, there can be only one payment mode. For example, an invoice cannot have partial payments via Card(s) and Cash / UPI.\n",
        " - All Credit settlement is done fully and at once. No installments. As in the above case, there can not be partial credit and partial payment for an Invoice."
      ],
      "metadata": {
        "id": "04IKGNzAsRei"
      }
    },
    {
      "cell_type": "code",
      "source": [
        "# @title Initialization\n",
        "\n",
        "if not AUTH_TOKEN:\n",
        "  loadOauthToken()\n",
        "\n",
        "oauth_token = renewOauthToken(AUTH_TOKEN,CLIENT_ID, CLIENT_SECRET)\n",
        "session = createSession(oauth_token['access_token'])\n",
        "\n",
        "if not ORGANIZATION_ID:\n",
        "  getOrganizationId(session)"
      ],
      "metadata": {
        "id": "hqOafFK8mlTt",
        "cellView": "form"
      },
      "execution_count": null,
      "outputs": []
    },
    {
      "cell_type": "code",
      "source": [
        "# @title Report\n",
        "\n",
        "invoice_df, sales_type_df, intra_state_tax_df, total_intra_state_tax_df = generateReport(from_date=FROM_DATE, to_date=TO_DATE)"
      ],
      "metadata": {
        "id": "1JWCT2IPD_l9",
        "cellView": "form",
        "colab": {
          "base_uri": "https://localhost:8080/",
          "height": 17
        },
        "outputId": "de1a5689-ee93-4c34-8140-14dace63f688"
      },
      "execution_count": 13,
      "outputs": [
        {
          "output_type": "display_data",
          "data": {
            "text/plain": [
              "<IPython.core.display.Javascript object>"
            ],
            "application/javascript": [
              "\n",
              "    async function download(id, filename, size) {\n",
              "      if (!google.colab.kernel.accessAllowed) {\n",
              "        return;\n",
              "      }\n",
              "      const div = document.createElement('div');\n",
              "      const label = document.createElement('label');\n",
              "      label.textContent = `Downloading \"${filename}\": `;\n",
              "      div.appendChild(label);\n",
              "      const progress = document.createElement('progress');\n",
              "      progress.max = size;\n",
              "      div.appendChild(progress);\n",
              "      document.body.appendChild(div);\n",
              "\n",
              "      const buffers = [];\n",
              "      let downloaded = 0;\n",
              "\n",
              "      const channel = await google.colab.kernel.comms.open(id);\n",
              "      // Send a message to notify the kernel that we're ready.\n",
              "      channel.send({})\n",
              "\n",
              "      for await (const message of channel.messages) {\n",
              "        // Send a message to notify the kernel that we're ready.\n",
              "        channel.send({})\n",
              "        if (message.buffers) {\n",
              "          for (const buffer of message.buffers) {\n",
              "            buffers.push(buffer);\n",
              "            downloaded += buffer.byteLength;\n",
              "            progress.value = downloaded;\n",
              "          }\n",
              "        }\n",
              "      }\n",
              "      const blob = new Blob(buffers, {type: 'application/binary'});\n",
              "      const a = document.createElement('a');\n",
              "      a.href = window.URL.createObjectURL(blob);\n",
              "      a.download = filename;\n",
              "      div.appendChild(a);\n",
              "      a.click();\n",
              "      div.remove();\n",
              "    }\n",
              "  "
            ]
          },
          "metadata": {}
        },
        {
          "output_type": "display_data",
          "data": {
            "text/plain": [
              "<IPython.core.display.Javascript object>"
            ],
            "application/javascript": [
              "download(\"download_c709dd94-ef22-43a9-819e-3d4ab8dc54b9\", \"report-from-2024-04-01-to-2024-04-01.xlsx\", 9767)"
            ]
          },
          "metadata": {}
        }
      ]
    },
    {
      "cell_type": "code",
      "source": [
        "invoice_df"
      ],
      "metadata": {
        "id": "-pi3EEe4gTSy"
      },
      "execution_count": null,
      "outputs": []
    },
    {
      "cell_type": "code",
      "source": [
        "sales_type_df"
      ],
      "metadata": {
        "id": "NWPn-eo5gXVT"
      },
      "execution_count": null,
      "outputs": []
    },
    {
      "cell_type": "code",
      "source": [
        "intra_state_tax_df"
      ],
      "metadata": {
        "id": "vgUPb0z5iGfK"
      },
      "execution_count": null,
      "outputs": []
    },
    {
      "cell_type": "code",
      "source": [
        "total_intra_state_tax_df"
      ],
      "metadata": {
        "id": "0u13jX7W9A4O"
      },
      "execution_count": null,
      "outputs": []
    },
    {
      "cell_type": "markdown",
      "source": [
        "# API Calls"
      ],
      "metadata": {
        "id": "BpcVywy8ppKm"
      }
    },
    {
      "cell_type": "code",
      "source": [
        "print(\"API calls made = {count}\".format(count=API_CALLS_COUNTER))"
      ],
      "metadata": {
        "id": "HpHHkR4skjHV"
      },
      "execution_count": null,
      "outputs": []
    }
  ]
}